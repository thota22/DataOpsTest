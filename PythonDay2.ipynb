{
 "cells": [
  {
   "cell_type": "markdown",
   "id": "d3dc6140",
   "metadata": {},
   "source": [
    "### Lists\n",
    "Lists contain comma seperated values enclosed in square brackets\n"
   ]
  },
  {
   "cell_type": "code",
   "execution_count": 1,
   "id": "6bf18ac1",
   "metadata": {},
   "outputs": [
    {
     "data": {
      "text/plain": [
       "['Blue', 'Red', 'Yellow', 'Brown']"
      ]
     },
     "execution_count": 1,
     "metadata": {},
     "output_type": "execute_result"
    }
   ],
   "source": [
    "# create\n",
    "mycolors = [\"Blue\", \"Red\", \"Yellow\", \"Brown\"]\n",
    "\n",
    "#Display\n",
    "mycolors"
   ]
  },
  {
   "cell_type": "markdown",
   "id": "c8843d4e",
   "metadata": {},
   "source": [
    "### Indexing\n",
    "- Accessing values in a list positionally \n",
    "- Python uses a zero-based indexing format"
   ]
  },
  {
   "cell_type": "code",
   "execution_count": 3,
   "id": "fb459a8f",
   "metadata": {},
   "outputs": [
    {
     "data": {
      "text/plain": [
       "'Blue'"
      ]
     },
     "execution_count": 3,
     "metadata": {},
     "output_type": "execute_result"
    }
   ],
   "source": [
    "# retrieve the first item in the list mycolor\n",
    "mycolors[0]"
   ]
  },
  {
   "cell_type": "code",
   "execution_count": 4,
   "id": "85ee0501",
   "metadata": {},
   "outputs": [
    {
     "data": {
      "text/plain": [
       "'Brown'"
      ]
     },
     "execution_count": 4,
     "metadata": {},
     "output_type": "execute_result"
    }
   ],
   "source": [
    "#retrieve the last item in the list mycolor\n",
    "mycolors[3]"
   ]
  },
  {
   "cell_type": "code",
   "execution_count": 6,
   "id": "e7f010ac",
   "metadata": {},
   "outputs": [
    {
     "data": {
      "text/plain": [
       "[100, 90, 80, 70, 60, 50, 40, 30, 20, 10]"
      ]
     },
     "execution_count": 6,
     "metadata": {},
     "output_type": "execute_result"
    }
   ],
   "source": [
    "#create list of ten randon numbers\n",
    "mynum = [100, 90, 80, 70, 60, 50, 40, 30, 20, 10]\n",
    "\n",
    "#display\n",
    "mynum"
   ]
  },
  {
   "cell_type": "code",
   "execution_count": 7,
   "id": "8d9baa77",
   "metadata": {},
   "outputs": [
    {
     "data": {
      "text/plain": [
       "[100, 90, 80, 70]"
      ]
     },
     "execution_count": 7,
     "metadata": {},
     "output_type": "execute_result"
    }
   ],
   "source": [
    "#\n",
    "#retrieve the first to the fifth item in the list mynum\n",
    "mynum[0:4]"
   ]
  },
  {
   "cell_type": "code",
   "execution_count": 9,
   "id": "f25ff6a1",
   "metadata": {},
   "outputs": [
    {
     "data": {
      "text/plain": [
       "[100, 90, 80]"
      ]
     },
     "execution_count": 9,
     "metadata": {},
     "output_type": "execute_result"
    }
   ],
   "source": [
    "mynum[0:3]"
   ]
  },
  {
   "cell_type": "markdown",
   "id": "4cf0634f",
   "metadata": {},
   "source": [
    "### Note: when indexing with a range the value in the upper boundary position is excluded"
   ]
  },
  {
   "cell_type": "markdown",
   "id": "0c93436a",
   "metadata": {},
   "source": [
    "### create a list of 7 random names and extract the items the last items"
   ]
  },
  {
   "cell_type": "code",
   "execution_count": 13,
   "id": "3d764e6f",
   "metadata": {},
   "outputs": [
    {
     "data": {
      "text/plain": [
       "['Simi', 'Thota', 'Ram', 'Tom']"
      ]
     },
     "execution_count": 13,
     "metadata": {},
     "output_type": "execute_result"
    }
   ],
   "source": [
    "RandomNames = [\"Avinash\", \"sam\", \"Roy\", \"Simi\", \"Thota\", \"Ram\", \"Tom\"]\n",
    "\n",
    "RandomNames[3:7]"
   ]
  },
  {
   "cell_type": "code",
   "execution_count": 14,
   "id": "5c671dd3",
   "metadata": {},
   "outputs": [
    {
     "data": {
      "text/plain": [
       "10"
      ]
     },
     "execution_count": 14,
     "metadata": {},
     "output_type": "execute_result"
    }
   ],
   "source": [
    "#Len: retrievw thebnumber of items in a list\n",
    "len (mynum)"
   ]
  },
  {
   "cell_type": "code",
   "execution_count": 15,
   "id": "43863cec",
   "metadata": {},
   "outputs": [
    {
     "data": {
      "text/plain": [
       "100"
      ]
     },
     "execution_count": 15,
     "metadata": {},
     "output_type": "execute_result"
    }
   ],
   "source": [
    "#Max: retreives the largest value in a list\n",
    "max(mynum)"
   ]
  },
  {
   "cell_type": "code",
   "execution_count": 16,
   "id": "4a38418a",
   "metadata": {},
   "outputs": [
    {
     "data": {
      "text/plain": [
       "10"
      ]
     },
     "execution_count": 16,
     "metadata": {},
     "output_type": "execute_result"
    }
   ],
   "source": [
    "#Min: Retrieve the smallest value in a list\n",
    "min(mynum)"
   ]
  },
  {
   "cell_type": "code",
   "execution_count": 17,
   "id": "f1d1df48",
   "metadata": {},
   "outputs": [
    {
     "data": {
      "text/plain": [
       "[100, 90, 80, 70, 60, 50, 40, 30, 20, 10, 1]"
      ]
     },
     "execution_count": 17,
     "metadata": {},
     "output_type": "execute_result"
    }
   ],
   "source": [
    "#Append: Add new item to a list\n",
    "mynum.append(1)\n",
    "\n",
    "#display\n",
    "mynum\n"
   ]
  },
  {
   "cell_type": "code",
   "execution_count": 19,
   "id": "db91c2fd",
   "metadata": {},
   "outputs": [
    {
     "data": {
      "text/plain": [
       "1"
      ]
     },
     "execution_count": 19,
     "metadata": {},
     "output_type": "execute_result"
    }
   ],
   "source": [
    "#check minimum value after appending a new number\n",
    "min(mynum)"
   ]
  },
  {
   "cell_type": "code",
   "execution_count": 20,
   "id": "22d6425e",
   "metadata": {},
   "outputs": [
    {
     "data": {
      "text/plain": [
       "[100, 90, 80, 70, 60, 50, 40, 30, 20, 10]"
      ]
     },
     "execution_count": 20,
     "metadata": {},
     "output_type": "execute_result"
    }
   ],
   "source": [
    "#Remove: Deletes item from on already existing list\n",
    "mynum.remove(1)\n",
    "\n",
    "#display\n",
    "mynum"
   ]
  },
  {
   "cell_type": "code",
   "execution_count": 21,
   "id": "d1c85a71",
   "metadata": {},
   "outputs": [
    {
     "data": {
      "text/plain": [
       "[100, 90, 80, 70, 60, 50, 40, 30, 20, 10]"
      ]
     },
     "execution_count": 21,
     "metadata": {},
     "output_type": "execute_result"
    }
   ],
   "source": [
    "#Sort a list\n",
    "mynum.sort(reverse = True) #True is decending\n",
    "\n",
    "mynum"
   ]
  },
  {
   "cell_type": "code",
   "execution_count": 22,
   "id": "a2c06393",
   "metadata": {},
   "outputs": [
    {
     "data": {
      "text/plain": [
       "[10, 20, 30, 40, 50, 60, 70, 80, 90, 100]"
      ]
     },
     "execution_count": 22,
     "metadata": {},
     "output_type": "execute_result"
    }
   ],
   "source": [
    "#Sort a list\n",
    "mynum.sort(reverse = False) #False is Ascending\n",
    "\n",
    "mynum"
   ]
  },
  {
   "cell_type": "markdown",
   "id": "a29c1744",
   "metadata": {},
   "source": [
    "#### Class activity: Create a list of five random numbers, using functions: Get the difference between the largest and smallest value divided by the lenght of the list\n"
   ]
  },
  {
   "cell_type": "code",
   "execution_count": 31,
   "id": "7e772dfe",
   "metadata": {},
   "outputs": [
    {
     "data": {
      "text/plain": [
       "100"
      ]
     },
     "execution_count": 31,
     "metadata": {},
     "output_type": "execute_result"
    }
   ],
   "source": [
    "RandomNum = [20,40,60,80,100]\n",
    "\n",
    "max(RandomNum)"
   ]
  },
  {
   "cell_type": "code",
   "execution_count": 25,
   "id": "139b0592",
   "metadata": {},
   "outputs": [
    {
     "data": {
      "text/plain": [
       "20"
      ]
     },
     "execution_count": 25,
     "metadata": {},
     "output_type": "execute_result"
    }
   ],
   "source": [
    "min(RandomNum)"
   ]
  },
  {
   "cell_type": "code",
   "execution_count": 26,
   "id": "80ae5957",
   "metadata": {},
   "outputs": [
    {
     "data": {
      "text/plain": [
       "5"
      ]
     },
     "execution_count": 26,
     "metadata": {},
     "output_type": "execute_result"
    }
   ],
   "source": [
    "len(RandomNum)"
   ]
  },
  {
   "cell_type": "code",
   "execution_count": 27,
   "id": "e285aa49",
   "metadata": {},
   "outputs": [
    {
     "data": {
      "text/plain": [
       "80"
      ]
     },
     "execution_count": 27,
     "metadata": {},
     "output_type": "execute_result"
    }
   ],
   "source": [
    "max(RandomNum)-min(RandomNum)"
   ]
  },
  {
   "cell_type": "code",
   "execution_count": 28,
   "id": "8688cdd4",
   "metadata": {},
   "outputs": [
    {
     "data": {
      "text/plain": [
       "16.0"
      ]
     },
     "execution_count": 28,
     "metadata": {},
     "output_type": "execute_result"
    }
   ],
   "source": [
    "(max(RandomNum)-min(RandomNum))/len(RandomNum)"
   ]
  },
  {
   "cell_type": "code",
   "execution_count": null,
   "id": "1180432b",
   "metadata": {},
   "outputs": [],
   "source": [
    "## a= max(num)\n",
    "##b= min(num)\n",
    "##c=Len (num)"
   ]
  },
  {
   "cell_type": "markdown",
   "id": "b67e308e",
   "metadata": {},
   "source": [
    "### Tuples\n",
    "They are similar to lists but with two major differences\n",
    "1. They created with round brackets or Parenthesis\n",
    "2. they are immutable / unchangeable : update/add, remove or sort is not allowed in any way or form"
   ]
  },
  {
   "cell_type": "code",
   "execution_count": 32,
   "id": "b0499eb5",
   "metadata": {},
   "outputs": [
    {
     "data": {
      "text/plain": [
       "('Blue', 'Red', 'Yellow', 'Brown')"
      ]
     },
     "execution_count": 32,
     "metadata": {},
     "output_type": "execute_result"
    }
   ],
   "source": [
    "#create a tuple of colors\n",
    "mytuple = (\"Blue\", \"Red\", \"Yellow\", \"Brown\")\n",
    "\n",
    "mytuple"
   ]
  },
  {
   "cell_type": "code",
   "execution_count": 33,
   "id": "206b884a",
   "metadata": {},
   "outputs": [
    {
     "data": {
      "text/plain": [
       "'Blue'"
      ]
     },
     "execution_count": 33,
     "metadata": {},
     "output_type": "execute_result"
    }
   ],
   "source": [
    "mytuple[0]"
   ]
  },
  {
   "cell_type": "markdown",
   "id": "94714a37",
   "metadata": {},
   "source": [
    " ### Dictionaries\n",
    " - They store data in key-value pairs\n",
    " - Dictionaries are created using the curly- braces {}"
   ]
  },
  {
   "cell_type": "code",
   "execution_count": 36,
   "id": "a1983356",
   "metadata": {},
   "outputs": [
    {
     "data": {
      "text/plain": [
       "{'FirstName': 'Avi', 'LastName': 'Thota', 'Location': 'Uk', 'Postcode': 'ST4'}"
      ]
     },
     "execution_count": 36,
     "metadata": {},
     "output_type": "execute_result"
    }
   ],
   "source": [
    "#create a dictionary\n",
    "mydict = {\"FirstName\" :\"Avi\", \"LastName\" : \"Thota\",\"Location\" : \"Uk\", \"Postcode\" : \"ST4\"}\n",
    "\n",
    "#Display\n",
    "mydict"
   ]
  },
  {
   "cell_type": "code",
   "execution_count": 37,
   "id": "c5c07e33",
   "metadata": {},
   "outputs": [
    {
     "data": {
      "text/plain": [
       "'Thota'"
      ]
     },
     "execution_count": 37,
     "metadata": {},
     "output_type": "execute_result"
    }
   ],
   "source": [
    "#Accessing values in a dictonary\n",
    "mydict[\"LastName\"]"
   ]
  },
  {
   "cell_type": "code",
   "execution_count": null,
   "id": "bebd31d6",
   "metadata": {},
   "outputs": [],
   "source": [
    "# update mydict"
   ]
  },
  {
   "cell_type": "code",
   "execution_count": 43,
   "id": "937a1796",
   "metadata": {},
   "outputs": [
    {
     "data": {
      "text/plain": [
       "{'FirstName': 'Avinash',\n",
       " 'LastName': 'Thota',\n",
       " 'Location': 'India',\n",
       " 'Postcode': '990099'}"
      ]
     },
     "execution_count": 43,
     "metadata": {},
     "output_type": "execute_result"
    }
   ],
   "source": [
    "mydict[\"Location\"] = \"India\"\n",
    "mydict[\"Postcode\"] = \"990099\"\n",
    "mydict[\"FirstName\"] = \"Avinash\"\n",
    "mydict"
   ]
  },
  {
   "cell_type": "markdown",
   "id": "173a19ad",
   "metadata": {},
   "source": [
    "#### Dictionary Functions"
   ]
  },
  {
   "cell_type": "code",
   "execution_count": 44,
   "id": "ee18f42e",
   "metadata": {},
   "outputs": [
    {
     "data": {
      "text/plain": [
       "4"
      ]
     },
     "execution_count": 44,
     "metadata": {},
     "output_type": "execute_result"
    }
   ],
   "source": [
    "#Len\n",
    "len(mydict)"
   ]
  },
  {
   "cell_type": "code",
   "execution_count": 45,
   "id": "e90264b6",
   "metadata": {},
   "outputs": [
    {
     "data": {
      "text/plain": [
       "dict_values(['Avinash', 'Thota', 'India', '990099'])"
      ]
     },
     "execution_count": 45,
     "metadata": {},
     "output_type": "execute_result"
    }
   ],
   "source": [
    "#Display all the values Only\n",
    "mydict.values()"
   ]
  },
  {
   "cell_type": "code",
   "execution_count": 46,
   "id": "dec47766",
   "metadata": {},
   "outputs": [
    {
     "data": {
      "text/plain": [
       "dict_keys(['FirstName', 'LastName', 'Location', 'Postcode'])"
      ]
     },
     "execution_count": 46,
     "metadata": {},
     "output_type": "execute_result"
    }
   ],
   "source": [
    "#Dsiplay all the key values\n",
    "mydict.keys()"
   ]
  },
  {
   "cell_type": "code",
   "execution_count": 47,
   "id": "b80a0ae1",
   "metadata": {},
   "outputs": [
    {
     "data": {
      "text/plain": [
       "dict_items([('FirstName', 'Avinash'), ('LastName', 'Thota'), ('Location', 'India'), ('Postcode', '990099')])"
      ]
     },
     "execution_count": 47,
     "metadata": {},
     "output_type": "execute_result"
    }
   ],
   "source": [
    "#retrieve the key value pairs\n",
    "mydict.items()"
   ]
  },
  {
   "cell_type": "code",
   "execution_count": 49,
   "id": "8b549512",
   "metadata": {},
   "outputs": [
    {
     "data": {
      "text/plain": [
       "'990099'"
      ]
     },
     "execution_count": 49,
     "metadata": {},
     "output_type": "execute_result"
    }
   ],
   "source": [
    "#Accessing values in dictionary\n",
    "mydict[\"Postcode\"]"
   ]
  },
  {
   "cell_type": "code",
   "execution_count": 48,
   "id": "82e8ce99",
   "metadata": {},
   "outputs": [
    {
     "data": {
      "text/plain": [
       "'990099'"
      ]
     },
     "execution_count": 48,
     "metadata": {},
     "output_type": "execute_result"
    }
   ],
   "source": [
    "# get the corresponding value to a key\n",
    "mydict.get(\"Postcode\")"
   ]
  },
  {
   "cell_type": "markdown",
   "id": "4fc3cfd4",
   "metadata": {},
   "source": [
    "### Create a python program that prompts users for a month input and then your program returns the number of days in the month"
   ]
  },
  {
   "cell_type": "code",
   "execution_count": null,
   "id": "4231fb8d",
   "metadata": {},
   "outputs": [],
   "source": [
    "# step 1: create a dictionary of the month and their corresponding days\n",
    "mymonth = {\"January\" : 31, \"Febuary\" : \"28 or 29 in leap year\", \"March\" : 30, \"April\" : 30, \"may\": 31, \"June\": 30, \"July\":31, \"August\": 31, \"September\": 30, \"October\": 31,\n",
    "          \"November\": 30,\"December\": 31}\n",
    "\n",
    "#step 2: get the user input\n",
    "userinput = input(\"Enter a Month:\")\n",
    "#step 3: Retuen the number of days - (April) has (X) of Days\n",
    "print (userinput, \"has\", mymonth[\"userinput\"], \"days\")\n"
   ]
  },
  {
   "cell_type": "code",
   "execution_count": null,
   "id": "e40759cd",
   "metadata": {},
   "outputs": [],
   "source": [
    "\n",
    "#step 2: get the user input\n",
    " userinput = input(\"Enter a Month:\")"
   ]
  },
  {
   "cell_type": "code",
   "execution_count": 54,
   "id": "346c1d57",
   "metadata": {},
   "outputs": [
    {
     "data": {
      "text/plain": [
       "'April'"
      ]
     },
     "execution_count": 54,
     "metadata": {},
     "output_type": "execute_result"
    }
   ],
   "source": [
    "userinput"
   ]
  },
  {
   "cell_type": "code",
   "execution_count": 56,
   "id": "1f06bc08",
   "metadata": {},
   "outputs": [
    {
     "data": {
      "text/plain": [
       "30"
      ]
     },
     "execution_count": 56,
     "metadata": {},
     "output_type": "execute_result"
    }
   ],
   "source": [
    "mymonth[\"April\"]"
   ]
  },
  {
   "cell_type": "code",
   "execution_count": null,
   "id": "b071a889",
   "metadata": {},
   "outputs": [],
   "source": [
    "# step 1: create a dictionary of the month and their corresponding days\n",
    "mymonth = {\"January\" : 31, \"Febuary\" : \"28 or 29 in leap year\", \"March\" : 30, \"April\" : 30, \"may\": 31, \"June\": 30, \"July\":31, \"August\": 31, \"September\": 30, \"October\": 31,\n",
    "          \"November\": 30,\"December\": 31}\n"
   ]
  },
  {
   "cell_type": "code",
   "execution_count": null,
   "id": "272c06b0",
   "metadata": {},
   "outputs": [],
   "source": [
    "#STEP 1: Create a dictionary of month and their corresponding days\n",
    "mymonth = {\"January\": 31,\n",
    "          \"February\" : \"28 or 29 in leap years\",\n",
    "          \"March\" : 31,\n",
    "          \"April\" : 30,\n",
    "          \"May\" : 31,\n",
    "          \"June\" : 30,\n",
    "          \"July\" : 31,\n",
    "          \"August\" : 31,\n",
    "          \"September\" : 30,\n",
    "          \"October\" : 31,\n",
    "          \"November\" : 30,\n",
    "          'December' : 31}\n",
    "\n",
    "#STEP 2: Get the user input\n",
    "userinput = input(\"Enter a month: \")\n",
    "\n",
    "#STEP 3: Return the number of days with a fancy message - (January) has (XXX) of days\n",
    "print(userinput, \"has\", mymonth[userinput], \"days\")\n",
    "\n"
   ]
  },
  {
   "cell_type": "code",
   "execution_count": null,
   "id": "88b849c6",
   "metadata": {},
   "outputs": [],
   "source": []
  }
 ],
 "metadata": {
  "kernelspec": {
   "display_name": "Python 3 (ipykernel)",
   "language": "python",
   "name": "python3"
  },
  "language_info": {
   "codemirror_mode": {
    "name": "ipython",
    "version": 3
   },
   "file_extension": ".py",
   "mimetype": "text/x-python",
   "name": "python",
   "nbconvert_exporter": "python",
   "pygments_lexer": "ipython3",
   "version": "3.9.7"
  }
 },
 "nbformat": 4,
 "nbformat_minor": 5
}
