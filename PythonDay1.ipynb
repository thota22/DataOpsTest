{
 "cells": [
  {
   "cell_type": "code",
   "execution_count": null,
   "id": "7daa7699",
   "metadata": {},
   "outputs": [],
   "source": [
    "print(\"Hello World\")"
   ]
  },
  {
   "cell_type": "markdown",
   "id": "b0366a4f",
   "metadata": {},
   "source": [
    "# Header\n",
    "## Header\n",
    "### Header\n",
    "#### Header\n",
    "##### Header"
   ]
  },
  {
   "cell_type": "code",
   "execution_count": 10,
   "id": "27226403",
   "metadata": {},
   "outputs": [
    {
     "name": "stdout",
     "output_type": "stream",
     "text": [
      "Hello World\n"
     ]
    }
   ],
   "source": [
    "print('Hello World')"
   ]
  },
  {
   "cell_type": "markdown",
   "id": "84a9b363",
   "metadata": {},
   "source": [
    "### Variables\n",
    "#### Variables are defined with (=) operator\n",
    "##### The Equal to (=) is reffered to as the assignment operator"
   ]
  },
  {
   "cell_type": "code",
   "execution_count": 15,
   "id": "63df54c6",
   "metadata": {},
   "outputs": [
    {
     "name": "stdout",
     "output_type": "stream",
     "text": [
      "10\n",
      "30\n"
     ]
    }
   ],
   "source": [
    "a = 3\n",
    "b = 2\n",
    "c = 5\n",
    "print (a+b+c)\n",
    "print (a*b*c)"
   ]
  },
  {
   "cell_type": "code",
   "execution_count": 18,
   "id": "7f3715a1",
   "metadata": {},
   "outputs": [
    {
     "name": "stdout",
     "output_type": "stream",
     "text": [
      "Hello World\n"
     ]
    }
   ],
   "source": [
    "greet = \"Hello World\"\n",
    "\n",
    "print(greet)"
   ]
  },
  {
   "cell_type": "markdown",
   "id": "edf067ec",
   "metadata": {},
   "source": [
    "### Class Activity :create a variable called name ,save your first name in the variable and print it out"
   ]
  },
  {
   "cell_type": "code",
   "execution_count": 19,
   "id": "64cf24d2",
   "metadata": {},
   "outputs": [
    {
     "name": "stdout",
     "output_type": "stream",
     "text": [
      "Avinash\n"
     ]
    }
   ],
   "source": [
    "Name = \"Avinash\"\n",
    "print(Name)"
   ]
  },
  {
   "cell_type": "markdown",
   "id": "b8637b6f",
   "metadata": {},
   "source": [
    "## (==) is the comparision Operator"
   ]
  },
  {
   "cell_type": "code",
   "execution_count": 22,
   "id": "ff6ec5da",
   "metadata": {},
   "outputs": [
    {
     "data": {
      "text/plain": [
       "False"
      ]
     },
     "execution_count": 22,
     "metadata": {},
     "output_type": "execute_result"
    }
   ],
   "source": [
    "\"Python\" == \"python\""
   ]
  },
  {
   "cell_type": "code",
   "execution_count": null,
   "id": "3bbac163",
   "metadata": {},
   "outputs": [],
   "source": [
    "a+b+c\n"
   ]
  },
  {
   "cell_type": "markdown",
   "id": "0af2ccfe",
   "metadata": {},
   "source": [
    "## input() function\n",
    "### it prompts users for an input by displaying a text input"
   ]
  },
  {
   "cell_type": "code",
   "execution_count": 24,
   "id": "d831fa8c",
   "metadata": {},
   "outputs": [
    {
     "name": "stdout",
     "output_type": "stream",
     "text": [
      "Avinash Thota\n"
     ]
    },
    {
     "data": {
      "text/plain": [
       "'Avinash Thota'"
      ]
     },
     "execution_count": 24,
     "metadata": {},
     "output_type": "execute_result"
    }
   ],
   "source": [
    "input()"
   ]
  },
  {
   "cell_type": "code",
   "execution_count": null,
   "id": "1e08c430",
   "metadata": {},
   "outputs": [],
   "source": [
    "input (\"Hellow Welcome, What is your firstname?)"
   ]
  },
  {
   "cell_type": "code",
   "execution_count": null,
   "id": "23561ccf",
   "metadata": {},
   "outputs": [],
   "source": [
    "name = input (\"Hello World, What is your firstname? \")\n",
    "location = input (\"Hello World, What is your Location\")\n",
    "print (\"Hello\",name , location)"
   ]
  },
  {
   "cell_type": "code",
   "execution_count": null,
   "id": "8e01ce26",
   "metadata": {},
   "outputs": [],
   "source": []
  }
 ],
 "metadata": {
  "kernelspec": {
   "display_name": "Python 3 (ipykernel)",
   "language": "python",
   "name": "python3"
  },
  "language_info": {
   "codemirror_mode": {
    "name": "ipython",
    "version": 3
   },
   "file_extension": ".py",
   "mimetype": "text/x-python",
   "name": "python",
   "nbconvert_exporter": "python",
   "pygments_lexer": "ipython3",
   "version": "3.9.7"
  }
 },
 "nbformat": 4,
 "nbformat_minor": 5
}
