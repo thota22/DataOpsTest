{
 "cells": [
  {
   "cell_type": "markdown",
   "id": "134049f3",
   "metadata": {},
   "source": [
    "#### Create a list of five random numbers and then subtract the lenght of the list from each item in the list created\n"
   ]
  },
  {
   "cell_type": "code",
   "execution_count": 16,
   "id": "fe285183",
   "metadata": {},
   "outputs": [
    {
     "name": "stdout",
     "output_type": "stream",
     "text": [
      "95\n",
      "51\n",
      "65\n",
      "14\n",
      "15\n"
     ]
    }
   ],
   "source": [
    "#STEP 1: Create a list\n",
    "mynum = [100, 56, 70, 19, 20]\n",
    "\n",
    "#STEP 2: Get the length of the list\n",
    "num_len = len(mynum)\n",
    "\n",
    "#STEP3:\n",
    "for num in mynum: #mynum is the data structure to iterate on\n",
    "    print(num - num_len) #The body of the loop\n"
   ]
  },
  {
   "cell_type": "markdown",
   "id": "21e7e9c9",
   "metadata": {},
   "source": [
    "#### Functions\n",
    "- user defined Functions: Functions we build ourselves\n",
    "- In-built Functions: predefined Functions"
   ]
  },
  {
   "cell_type": "code",
   "execution_count": 18,
   "id": "cd9990f8",
   "metadata": {},
   "outputs": [],
   "source": [
    "## Define a function that display hello world\n",
    "\n",
    "def greeter():\n",
    "    print (\"Hello World\") # body of the function\n",
    "    return # The return keyword marks the end of a function"
   ]
  },
  {
   "cell_type": "code",
   "execution_count": 19,
   "id": "63c8cf76",
   "metadata": {},
   "outputs": [
    {
     "name": "stdout",
     "output_type": "stream",
     "text": [
      "Hello World\n"
     ]
    }
   ],
   "source": [
    "greeter() # call/invoke the function"
   ]
  },
  {
   "cell_type": "code",
   "execution_count": 29,
   "id": "6ebc4152",
   "metadata": {},
   "outputs": [],
   "source": [
    "# one step Forword: we use input parameters now\n",
    "def greeter2(name):\n",
    "    print (\"Hello\", name)\n",
    "    return"
   ]
  },
  {
   "cell_type": "code",
   "execution_count": 30,
   "id": "beee3f2d",
   "metadata": {},
   "outputs": [
    {
     "name": "stdout",
     "output_type": "stream",
     "text": [
      "Hello Thota\n"
     ]
    }
   ],
   "source": [
    "greeter2(name = \"Thota\") # call the function"
   ]
  },
  {
   "cell_type": "code",
   "execution_count": 31,
   "id": "f625843b",
   "metadata": {},
   "outputs": [],
   "source": [
    "#### Define a function that returns the sum of any two numbers\n",
    "def summer(x,y):\n",
    "    result = x+y\n",
    "    return result"
   ]
  },
  {
   "cell_type": "code",
   "execution_count": 33,
   "id": "e439e5a1",
   "metadata": {},
   "outputs": [
    {
     "data": {
      "text/plain": [
       "60"
      ]
     },
     "execution_count": 33,
     "metadata": {},
     "output_type": "execute_result"
    }
   ],
   "source": [
    "summer(x=50, y= 10)"
   ]
  },
  {
   "cell_type": "markdown",
   "id": "4f4965b1",
   "metadata": {},
   "source": [
    "### Define a function that returns the square root of a number"
   ]
  },
  {
   "cell_type": "code",
   "execution_count": 34,
   "id": "71c7684d",
   "metadata": {},
   "outputs": [],
   "source": [
    "def squareroot(x):\n",
    "    result = x ** 0.5\n",
    "    return result"
   ]
  },
  {
   "cell_type": "code",
   "execution_count": 39,
   "id": "6788a433",
   "metadata": {},
   "outputs": [
    {
     "data": {
      "text/plain": [
       "5.0"
      ]
     },
     "execution_count": 39,
     "metadata": {},
     "output_type": "execute_result"
    }
   ],
   "source": [
    "squareroot (25)"
   ]
  },
  {
   "cell_type": "code",
   "execution_count": 38,
   "id": "51bef1b2",
   "metadata": {},
   "outputs": [
    {
     "name": "stdout",
     "output_type": "stream",
     "text": [
      "10.0\n",
      "5.0\n",
      "6.0\n",
      "7.0\n",
      "2.0\n"
     ]
    }
   ],
   "source": [
    "#STEP 1: Create a list\n",
    "myno = [100, 25, 36, 49, 4]\n",
    "\n",
    "#STEP 2: Get the length of the list\n",
    "num_len = len(myno)\n",
    "\n",
    "#STEP3:\n",
    "for i in myno: #mynum is the data structure to iterate on\n",
    "    print(squareroot(i)) #The body of the loop\n"
   ]
  },
  {
   "cell_type": "markdown",
   "id": "919598e0",
   "metadata": {},
   "source": [
    "### A few more functions"
   ]
  },
  {
   "cell_type": "code",
   "execution_count": 40,
   "id": "a553796d",
   "metadata": {},
   "outputs": [
    {
     "data": {
      "text/plain": [
       "['this', 'is', 'my', 'first', 'attempt', 'with', 'python']"
      ]
     },
     "execution_count": 40,
     "metadata": {},
     "output_type": "execute_result"
    }
   ],
   "source": [
    "#split(); cuts a string into a list based on a delimeter\n",
    "\n",
    "sentence = \"this is my first attempt with python\"\n",
    "\n",
    "#split sentence\n",
    "sentence.split(\" \")"
   ]
  },
  {
   "cell_type": "code",
   "execution_count": 41,
   "id": "4d47bfc7",
   "metadata": {},
   "outputs": [
    {
     "data": {
      "text/plain": [
       "['Avinash', 'Thota', 'Ph', 'No']"
      ]
     },
     "execution_count": 41,
     "metadata": {},
     "output_type": "execute_result"
    }
   ],
   "source": [
    "bio = \"Avinash Thota Ph No\"\n",
    "bio.split(\" \")"
   ]
  },
  {
   "cell_type": "markdown",
   "id": "b835260b",
   "metadata": {},
   "source": [
    "#### Split the url provided using (/) as a delimeter"
   ]
  },
  {
   "cell_type": "code",
   "execution_count": 44,
   "id": "93efc7e9",
   "metadata": {},
   "outputs": [
    {
     "data": {
      "text/plain": [
       "['https:', '', 'en.wikipedia.org', 'wiki', 'UEFA_European_Championship']"
      ]
     },
     "execution_count": 44,
     "metadata": {},
     "output_type": "execute_result"
    }
   ],
   "source": [
    "url = \"https://en.wikipedia.org/wiki/UEFA_European_Championship\"\n",
    "url.split(\"/\")"
   ]
  },
  {
   "cell_type": "code",
   "execution_count": 48,
   "id": "ec186dd8",
   "metadata": {},
   "outputs": [
    {
     "data": {
      "text/plain": [
       "'https://en.wikipedia.org/wiki/UEFA_European_Championship'"
      ]
     },
     "execution_count": 48,
     "metadata": {},
     "output_type": "execute_result"
    }
   ],
   "source": [
    "url_split = url.split(\"/\")\n",
    "\n",
    "#join the strings back using the join functions\n",
    "\"/\".join(url_split)"
   ]
  },
  {
   "cell_type": "code",
   "execution_count": 49,
   "id": "68ada4e2",
   "metadata": {},
   "outputs": [
    {
     "data": {
      "text/plain": [
       "'I love writing java'"
      ]
     },
     "execution_count": 49,
     "metadata": {},
     "output_type": "execute_result"
    }
   ],
   "source": [
    "# replace \n",
    "\n",
    "statement = \"I love writing python\"\n",
    "\n",
    "#replace the pythin with java\n",
    "statement.replace(\"python\", \"java\")"
   ]
  },
  {
   "cell_type": "markdown",
   "id": "817fae41",
   "metadata": {},
   "source": [
    "#### you have been provided with a string of words. find a way to append ing to each word in string"
   ]
  },
  {
   "cell_type": "code",
   "execution_count": 61,
   "id": "3ebb3373",
   "metadata": {},
   "outputs": [
    {
     "data": {
      "text/plain": [
       "['go', 'act', 'climb', 'roll', 'sing', 'jump']"
      ]
     },
     "execution_count": 61,
     "metadata": {},
     "output_type": "execute_result"
    }
   ],
   "source": [
    "actions_new ='go act climb roll sing jump'\n",
    "\n",
    "step1 = actions_new.split (\" \")\n",
    "step1"
   ]
  },
  {
   "cell_type": "code",
   "execution_count": 62,
   "id": "30bbbedb",
   "metadata": {},
   "outputs": [
    {
     "name": "stdout",
     "output_type": "stream",
     "text": [
      "going\n",
      "acting\n",
      "climbing\n",
      "rolling\n",
      "singing\n",
      "jumping\n"
     ]
    }
   ],
   "source": [
    "for word in step1:\n",
    "    print ( word + \"ing\")"
   ]
  },
  {
   "cell_type": "code",
   "execution_count": 64,
   "id": "2c0a4e73",
   "metadata": {},
   "outputs": [
    {
     "data": {
      "text/plain": [
       "'ATOHT'"
      ]
     },
     "execution_count": 64,
     "metadata": {},
     "output_type": "execute_result"
    }
   ],
   "source": [
    "## reversing a string\n",
    "word = \"THOTA\"\n",
    "\n",
    "word[::-1]"
   ]
  },
  {
   "cell_type": "markdown",
   "id": "a8b6408c",
   "metadata": {},
   "source": [
    "#### Write a function that checks if a word is a palindrome"
   ]
  },
  {
   "cell_type": "code",
   "execution_count": 65,
   "id": "5adf28fb",
   "metadata": {},
   "outputs": [
    {
     "name": "stdout",
     "output_type": "stream",
     "text": [
      "Not palindrome\n"
     ]
    }
   ],
   "source": [
    "word = \"Thota\"\n",
    "\n",
    "#obtain the reversed version of the word\n",
    "reverse_word = word[::-1]\n",
    "\n",
    "if word == reverse_word:\n",
    "    print (\"palindrome\")\n",
    "else:\n",
    "    print (\"Not palindrome\")"
   ]
  },
  {
   "cell_type": "code",
   "execution_count": 66,
   "id": "4841e26f",
   "metadata": {},
   "outputs": [
    {
     "name": "stdout",
     "output_type": "stream",
     "text": [
      "palindrome\n"
     ]
    }
   ],
   "source": [
    "word = \"MADAM\"\n",
    "\n",
    "#obtain the reversed version of the word\n",
    "reverse_word = word[::-1]\n",
    "\n",
    "if word == reverse_word:\n",
    "    print (\"palindrome\")\n",
    "else:\n",
    "    print (\"Not palindrome\")"
   ]
  },
  {
   "cell_type": "markdown",
   "id": "1abdfe9c",
   "metadata": {},
   "source": [
    "### combine the palindrome process into a function"
   ]
  },
  {
   "cell_type": "code",
   "execution_count": 83,
   "id": "8646352d",
   "metadata": {},
   "outputs": [],
   "source": [
    "def palindrome(word):\n",
    "    reverse_word = word[::-1]\n",
    "    \n",
    "    if word == reverse_word:\n",
    "        print(\"palindrome\")\n",
    "    else:\n",
    "        print(\"Not palindrome\")\n",
    "    return"
   ]
  },
  {
   "cell_type": "code",
   "execution_count": 84,
   "id": "58c7dd9a",
   "metadata": {},
   "outputs": [
    {
     "name": "stdout",
     "output_type": "stream",
     "text": [
      "palindrome\n"
     ]
    }
   ],
   "source": [
    "palindrome(\"mom\")"
   ]
  },
  {
   "cell_type": "markdown",
   "id": "b03a9171",
   "metadata": {},
   "source": [
    "### pandas"
   ]
  },
  {
   "cell_type": "code",
   "execution_count": 89,
   "id": "82d522bf",
   "metadata": {},
   "outputs": [
    {
     "data": {
      "text/html": [
       "<div>\n",
       "<style scoped>\n",
       "    .dataframe tbody tr th:only-of-type {\n",
       "        vertical-align: middle;\n",
       "    }\n",
       "\n",
       "    .dataframe tbody tr th {\n",
       "        vertical-align: top;\n",
       "    }\n",
       "\n",
       "    .dataframe thead th {\n",
       "        text-align: right;\n",
       "    }\n",
       "</style>\n",
       "<table border=\"1\" class=\"dataframe\">\n",
       "  <thead>\n",
       "    <tr style=\"text-align: right;\">\n",
       "      <th></th>\n",
       "      <th>ResellerOrOnline</th>\n",
       "      <th>Name</th>\n",
       "      <th>Month</th>\n",
       "      <th>Year</th>\n",
       "      <th>Revenue</th>\n",
       "    </tr>\n",
       "  </thead>\n",
       "  <tbody>\n",
       "    <tr>\n",
       "      <th>0</th>\n",
       "      <td>0</td>\n",
       "      <td>Australia</td>\n",
       "      <td>5</td>\n",
       "      <td>2013</td>\n",
       "      <td>49824.713775</td>\n",
       "    </tr>\n",
       "    <tr>\n",
       "      <th>1</th>\n",
       "      <td>0</td>\n",
       "      <td>Australia</td>\n",
       "      <td>6</td>\n",
       "      <td>2013</td>\n",
       "      <td>134280.982239</td>\n",
       "    </tr>\n",
       "    <tr>\n",
       "      <th>2</th>\n",
       "      <td>0</td>\n",
       "      <td>Australia</td>\n",
       "      <td>7</td>\n",
       "      <td>2013</td>\n",
       "      <td>266778.707809</td>\n",
       "    </tr>\n",
       "    <tr>\n",
       "      <th>3</th>\n",
       "      <td>0</td>\n",
       "      <td>Australia</td>\n",
       "      <td>8</td>\n",
       "      <td>2013</td>\n",
       "      <td>55341.462000</td>\n",
       "    </tr>\n",
       "    <tr>\n",
       "      <th>4</th>\n",
       "      <td>0</td>\n",
       "      <td>Australia</td>\n",
       "      <td>9</td>\n",
       "      <td>2013</td>\n",
       "      <td>124225.104000</td>\n",
       "    </tr>\n",
       "    <tr>\n",
       "      <th>...</th>\n",
       "      <td>...</td>\n",
       "      <td>...</td>\n",
       "      <td>...</td>\n",
       "      <td>...</td>\n",
       "      <td>...</td>\n",
       "    </tr>\n",
       "    <tr>\n",
       "      <th>547</th>\n",
       "      <td>1</td>\n",
       "      <td>United Kingdom</td>\n",
       "      <td>2</td>\n",
       "      <td>2014</td>\n",
       "      <td>175784.400000</td>\n",
       "    </tr>\n",
       "    <tr>\n",
       "      <th>548</th>\n",
       "      <td>1</td>\n",
       "      <td>United Kingdom</td>\n",
       "      <td>3</td>\n",
       "      <td>2014</td>\n",
       "      <td>188023.700000</td>\n",
       "    </tr>\n",
       "    <tr>\n",
       "      <th>549</th>\n",
       "      <td>1</td>\n",
       "      <td>United Kingdom</td>\n",
       "      <td>4</td>\n",
       "      <td>2014</td>\n",
       "      <td>206451.510000</td>\n",
       "    </tr>\n",
       "    <tr>\n",
       "      <th>550</th>\n",
       "      <td>1</td>\n",
       "      <td>United Kingdom</td>\n",
       "      <td>5</td>\n",
       "      <td>2014</td>\n",
       "      <td>262427.320000</td>\n",
       "    </tr>\n",
       "    <tr>\n",
       "      <th>551</th>\n",
       "      <td>1</td>\n",
       "      <td>United Kingdom</td>\n",
       "      <td>6</td>\n",
       "      <td>2014</td>\n",
       "      <td>4169.950000</td>\n",
       "    </tr>\n",
       "  </tbody>\n",
       "</table>\n",
       "<p>552 rows × 5 columns</p>\n",
       "</div>"
      ],
      "text/plain": [
       "     ResellerOrOnline            Name  Month  Year        Revenue\n",
       "0                   0       Australia      5  2013   49824.713775\n",
       "1                   0       Australia      6  2013  134280.982239\n",
       "2                   0       Australia      7  2013  266778.707809\n",
       "3                   0       Australia      8  2013   55341.462000\n",
       "4                   0       Australia      9  2013  124225.104000\n",
       "..                ...             ...    ...   ...            ...\n",
       "547                 1  United Kingdom      2  2014  175784.400000\n",
       "548                 1  United Kingdom      3  2014  188023.700000\n",
       "549                 1  United Kingdom      4  2014  206451.510000\n",
       "550                 1  United Kingdom      5  2014  262427.320000\n",
       "551                 1  United Kingdom      6  2014    4169.950000\n",
       "\n",
       "[552 rows x 5 columns]"
      ]
     },
     "execution_count": 89,
     "metadata": {},
     "output_type": "execute_result"
    }
   ],
   "source": [
    "# How to import pandas\n",
    "import pandas as pd\n",
    "\n",
    "#read in the data\n",
    "df = pd.read_excel(\"SalesForecast_RawData.xlsx\")\n",
    "df"
   ]
  },
  {
   "cell_type": "code",
   "execution_count": 90,
   "id": "19de7b07",
   "metadata": {},
   "outputs": [
    {
     "data": {
      "text/html": [
       "<div>\n",
       "<style scoped>\n",
       "    .dataframe tbody tr th:only-of-type {\n",
       "        vertical-align: middle;\n",
       "    }\n",
       "\n",
       "    .dataframe tbody tr th {\n",
       "        vertical-align: top;\n",
       "    }\n",
       "\n",
       "    .dataframe thead th {\n",
       "        text-align: right;\n",
       "    }\n",
       "</style>\n",
       "<table border=\"1\" class=\"dataframe\">\n",
       "  <thead>\n",
       "    <tr style=\"text-align: right;\">\n",
       "      <th></th>\n",
       "      <th>ResellerOrOnline</th>\n",
       "      <th>Name</th>\n",
       "      <th>Month</th>\n",
       "      <th>Year</th>\n",
       "      <th>Revenue</th>\n",
       "    </tr>\n",
       "  </thead>\n",
       "  <tbody>\n",
       "    <tr>\n",
       "      <th>0</th>\n",
       "      <td>0</td>\n",
       "      <td>Australia</td>\n",
       "      <td>5</td>\n",
       "      <td>2013</td>\n",
       "      <td>49824.713775</td>\n",
       "    </tr>\n",
       "    <tr>\n",
       "      <th>1</th>\n",
       "      <td>0</td>\n",
       "      <td>Australia</td>\n",
       "      <td>6</td>\n",
       "      <td>2013</td>\n",
       "      <td>134280.982239</td>\n",
       "    </tr>\n",
       "    <tr>\n",
       "      <th>2</th>\n",
       "      <td>0</td>\n",
       "      <td>Australia</td>\n",
       "      <td>7</td>\n",
       "      <td>2013</td>\n",
       "      <td>266778.707809</td>\n",
       "    </tr>\n",
       "    <tr>\n",
       "      <th>3</th>\n",
       "      <td>0</td>\n",
       "      <td>Australia</td>\n",
       "      <td>8</td>\n",
       "      <td>2013</td>\n",
       "      <td>55341.462000</td>\n",
       "    </tr>\n",
       "    <tr>\n",
       "      <th>4</th>\n",
       "      <td>0</td>\n",
       "      <td>Australia</td>\n",
       "      <td>9</td>\n",
       "      <td>2013</td>\n",
       "      <td>124225.104000</td>\n",
       "    </tr>\n",
       "  </tbody>\n",
       "</table>\n",
       "</div>"
      ],
      "text/plain": [
       "   ResellerOrOnline       Name  Month  Year        Revenue\n",
       "0                 0  Australia      5  2013   49824.713775\n",
       "1                 0  Australia      6  2013  134280.982239\n",
       "2                 0  Australia      7  2013  266778.707809\n",
       "3                 0  Australia      8  2013   55341.462000\n",
       "4                 0  Australia      9  2013  124225.104000"
      ]
     },
     "execution_count": 90,
     "metadata": {},
     "output_type": "execute_result"
    }
   ],
   "source": [
    "#head\n",
    "df.head()"
   ]
  },
  {
   "cell_type": "code",
   "execution_count": 91,
   "id": "8cfc26cf",
   "metadata": {},
   "outputs": [
    {
     "data": {
      "text/html": [
       "<div>\n",
       "<style scoped>\n",
       "    .dataframe tbody tr th:only-of-type {\n",
       "        vertical-align: middle;\n",
       "    }\n",
       "\n",
       "    .dataframe tbody tr th {\n",
       "        vertical-align: top;\n",
       "    }\n",
       "\n",
       "    .dataframe thead th {\n",
       "        text-align: right;\n",
       "    }\n",
       "</style>\n",
       "<table border=\"1\" class=\"dataframe\">\n",
       "  <thead>\n",
       "    <tr style=\"text-align: right;\">\n",
       "      <th></th>\n",
       "      <th>ResellerOrOnline</th>\n",
       "      <th>Name</th>\n",
       "      <th>Month</th>\n",
       "      <th>Year</th>\n",
       "      <th>Revenue</th>\n",
       "    </tr>\n",
       "  </thead>\n",
       "  <tbody>\n",
       "    <tr>\n",
       "      <th>547</th>\n",
       "      <td>1</td>\n",
       "      <td>United Kingdom</td>\n",
       "      <td>2</td>\n",
       "      <td>2014</td>\n",
       "      <td>175784.40</td>\n",
       "    </tr>\n",
       "    <tr>\n",
       "      <th>548</th>\n",
       "      <td>1</td>\n",
       "      <td>United Kingdom</td>\n",
       "      <td>3</td>\n",
       "      <td>2014</td>\n",
       "      <td>188023.70</td>\n",
       "    </tr>\n",
       "    <tr>\n",
       "      <th>549</th>\n",
       "      <td>1</td>\n",
       "      <td>United Kingdom</td>\n",
       "      <td>4</td>\n",
       "      <td>2014</td>\n",
       "      <td>206451.51</td>\n",
       "    </tr>\n",
       "    <tr>\n",
       "      <th>550</th>\n",
       "      <td>1</td>\n",
       "      <td>United Kingdom</td>\n",
       "      <td>5</td>\n",
       "      <td>2014</td>\n",
       "      <td>262427.32</td>\n",
       "    </tr>\n",
       "    <tr>\n",
       "      <th>551</th>\n",
       "      <td>1</td>\n",
       "      <td>United Kingdom</td>\n",
       "      <td>6</td>\n",
       "      <td>2014</td>\n",
       "      <td>4169.95</td>\n",
       "    </tr>\n",
       "  </tbody>\n",
       "</table>\n",
       "</div>"
      ],
      "text/plain": [
       "     ResellerOrOnline            Name  Month  Year    Revenue\n",
       "547                 1  United Kingdom      2  2014  175784.40\n",
       "548                 1  United Kingdom      3  2014  188023.70\n",
       "549                 1  United Kingdom      4  2014  206451.51\n",
       "550                 1  United Kingdom      5  2014  262427.32\n",
       "551                 1  United Kingdom      6  2014    4169.95"
      ]
     },
     "execution_count": 91,
     "metadata": {},
     "output_type": "execute_result"
    }
   ],
   "source": [
    "#tail\n",
    "df.tail()"
   ]
  },
  {
   "cell_type": "code",
   "execution_count": 92,
   "id": "8103370f",
   "metadata": {},
   "outputs": [
    {
     "data": {
      "text/plain": [
       "(552, 5)"
      ]
     },
     "execution_count": 92,
     "metadata": {},
     "output_type": "execute_result"
    }
   ],
   "source": [
    "#dimensions: number of rows and columns\n",
    "df.shape"
   ]
  },
  {
   "cell_type": "code",
   "execution_count": 93,
   "id": "106adcf8",
   "metadata": {},
   "outputs": [
    {
     "data": {
      "text/html": [
       "<div>\n",
       "<style scoped>\n",
       "    .dataframe tbody tr th:only-of-type {\n",
       "        vertical-align: middle;\n",
       "    }\n",
       "\n",
       "    .dataframe tbody tr th {\n",
       "        vertical-align: top;\n",
       "    }\n",
       "\n",
       "    .dataframe thead th {\n",
       "        text-align: right;\n",
       "    }\n",
       "</style>\n",
       "<table border=\"1\" class=\"dataframe\">\n",
       "  <thead>\n",
       "    <tr style=\"text-align: right;\">\n",
       "      <th></th>\n",
       "      <th>ResellerOrOnline</th>\n",
       "      <th>Month</th>\n",
       "      <th>Year</th>\n",
       "      <th>Revenue</th>\n",
       "    </tr>\n",
       "  </thead>\n",
       "  <tbody>\n",
       "    <tr>\n",
       "      <th>count</th>\n",
       "      <td>552.000000</td>\n",
       "      <td>552.000000</td>\n",
       "      <td>552.000000</td>\n",
       "      <td>5.520000e+02</td>\n",
       "    </tr>\n",
       "    <tr>\n",
       "      <th>mean</th>\n",
       "      <td>0.525362</td>\n",
       "      <td>6.485507</td>\n",
       "      <td>2012.534420</td>\n",
       "      <td>1.989528e+05</td>\n",
       "    </tr>\n",
       "    <tr>\n",
       "      <th>std</th>\n",
       "      <td>0.499809</td>\n",
       "      <td>3.400086</td>\n",
       "      <td>0.928815</td>\n",
       "      <td>1.935884e+05</td>\n",
       "    </tr>\n",
       "    <tr>\n",
       "      <th>min</th>\n",
       "      <td>0.000000</td>\n",
       "      <td>1.000000</td>\n",
       "      <td>2011.000000</td>\n",
       "      <td>7.280000e+00</td>\n",
       "    </tr>\n",
       "    <tr>\n",
       "      <th>25%</th>\n",
       "      <td>0.000000</td>\n",
       "      <td>4.000000</td>\n",
       "      <td>2012.000000</td>\n",
       "      <td>5.535895e+04</td>\n",
       "    </tr>\n",
       "    <tr>\n",
       "      <th>50%</th>\n",
       "      <td>1.000000</td>\n",
       "      <td>6.000000</td>\n",
       "      <td>2013.000000</td>\n",
       "      <td>1.461063e+05</td>\n",
       "    </tr>\n",
       "    <tr>\n",
       "      <th>75%</th>\n",
       "      <td>1.000000</td>\n",
       "      <td>9.000000</td>\n",
       "      <td>2013.000000</td>\n",
       "      <td>2.668921e+05</td>\n",
       "    </tr>\n",
       "    <tr>\n",
       "      <th>max</th>\n",
       "      <td>1.000000</td>\n",
       "      <td>12.000000</td>\n",
       "      <td>2014.000000</td>\n",
       "      <td>1.142686e+06</td>\n",
       "    </tr>\n",
       "  </tbody>\n",
       "</table>\n",
       "</div>"
      ],
      "text/plain": [
       "       ResellerOrOnline       Month         Year       Revenue\n",
       "count        552.000000  552.000000   552.000000  5.520000e+02\n",
       "mean           0.525362    6.485507  2012.534420  1.989528e+05\n",
       "std            0.499809    3.400086     0.928815  1.935884e+05\n",
       "min            0.000000    1.000000  2011.000000  7.280000e+00\n",
       "25%            0.000000    4.000000  2012.000000  5.535895e+04\n",
       "50%            1.000000    6.000000  2013.000000  1.461063e+05\n",
       "75%            1.000000    9.000000  2013.000000  2.668921e+05\n",
       "max            1.000000   12.000000  2014.000000  1.142686e+06"
      ]
     },
     "execution_count": 93,
     "metadata": {},
     "output_type": "execute_result"
    }
   ],
   "source": [
    "#describe: summary statistics\n",
    "df.describe()"
   ]
  },
  {
   "cell_type": "code",
   "execution_count": 94,
   "id": "7100c7ce",
   "metadata": {},
   "outputs": [
    {
     "data": {
      "text/plain": [
       "0           Australia\n",
       "1           Australia\n",
       "2           Australia\n",
       "3           Australia\n",
       "4           Australia\n",
       "            ...      \n",
       "547    United Kingdom\n",
       "548    United Kingdom\n",
       "549    United Kingdom\n",
       "550    United Kingdom\n",
       "551    United Kingdom\n",
       "Name: Name, Length: 552, dtype: object"
      ]
     },
     "execution_count": 94,
     "metadata": {},
     "output_type": "execute_result"
    }
   ],
   "source": [
    "# Index columns\n",
    "df.Name"
   ]
  },
  {
   "cell_type": "code",
   "execution_count": 95,
   "id": "04142d79",
   "metadata": {},
   "outputs": [
    {
     "data": {
      "text/plain": [
       "0      2013\n",
       "1      2013\n",
       "2      2013\n",
       "3      2013\n",
       "4      2013\n",
       "       ... \n",
       "547    2014\n",
       "548    2014\n",
       "549    2014\n",
       "550    2014\n",
       "551    2014\n",
       "Name: Year, Length: 552, dtype: int64"
      ]
     },
     "execution_count": 95,
     "metadata": {},
     "output_type": "execute_result"
    }
   ],
   "source": [
    "df.Year"
   ]
  },
  {
   "cell_type": "code",
   "execution_count": 97,
   "id": "99f806fd",
   "metadata": {},
   "outputs": [
    {
     "data": {
      "text/plain": [
       "array([2013, 2014, 2011, 2012], dtype=int64)"
      ]
     },
     "execution_count": 97,
     "metadata": {},
     "output_type": "execute_result"
    }
   ],
   "source": [
    "#Distinct count\n",
    "#retrieve all the distinct years\n",
    "df.Year.unique()"
   ]
  },
  {
   "cell_type": "code",
   "execution_count": 98,
   "id": "337ee54a",
   "metadata": {},
   "outputs": [
    {
     "data": {
      "text/plain": [
       "4"
      ]
     },
     "execution_count": 98,
     "metadata": {},
     "output_type": "execute_result"
    }
   ],
   "source": [
    "#distinct count\n",
    "df.Year.nunique()"
   ]
  },
  {
   "cell_type": "code",
   "execution_count": 99,
   "id": "d6e3b46d",
   "metadata": {},
   "outputs": [
    {
     "data": {
      "text/plain": [
       "Index(['ResellerOrOnline', 'Name', 'Month', 'Year', 'Revenue'], dtype='object')"
      ]
     },
     "execution_count": 99,
     "metadata": {},
     "output_type": "execute_result"
    }
   ],
   "source": [
    "# preview the column names\n",
    "df.columns"
   ]
  }
 ],
 "metadata": {
  "kernelspec": {
   "display_name": "Python 3 (ipykernel)",
   "language": "python",
   "name": "python3"
  },
  "language_info": {
   "codemirror_mode": {
    "name": "ipython",
    "version": 3
   },
   "file_extension": ".py",
   "mimetype": "text/x-python",
   "name": "python",
   "nbconvert_exporter": "python",
   "pygments_lexer": "ipython3",
   "version": "3.9.7"
  }
 },
 "nbformat": 4,
 "nbformat_minor": 5
}
